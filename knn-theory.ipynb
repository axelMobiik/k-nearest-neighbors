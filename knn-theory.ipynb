{
 "cells": [
  {
   "cell_type": "markdown",
   "id": "b6a34857-5ef9-47c4-87e3-835313c757c4",
   "metadata": {},
   "source": [
    "<h1>Introduction to K Nearest Neighbors</h1>\n",
    "<p>\n",
    "    K Nearest NEighbors is <strong>classification</strong> algorithm that operates on a very simple principle.\n",
    "    <br>It is best shown through example!\n",
    "    <br>Imagine we had some imaginary data on Dogs and Horses, with heights and weights\n",
    "</p>\n",
    "<p>\n",
    "    Training Algorithm:\n",
    "    <ol><li>Store all the Data</li></ol>\n",
    "    <br>\n",
    "    <br>Prediction Algorithm:\n",
    "    <ol>\n",
    "        <li>Calculate the distance from x to all points in your data</li>\n",
    "        <li>Sort the points in your data by increasing distance from x</li>\n",
    "        <li>Predict the majority label of the \"k\" closest points</li>\n",
    "    </ol>\n",
    "</p>\n",
    "<p>\n",
    "    Pros:\n",
    "    <li>Very simple</li>\n",
    "    <li>Training is trivial</li>\n",
    "    <li>Works with any nymber of classes</li>\n",
    "    <li>Easy to add more data</li>\n",
    "    <li>Few parameters</li>\n",
    "    <li>> K</li>\n",
    "    <li>> Distance Metric</li>\n",
    "</p>\n",
    "<p>\n",
    "    Const\n",
    "    <li>High Prediction Cost (worse for large data sets)</li>\n",
    "    <li>Not good with high dimensional data</li>\n",
    "    <li>Categorical Features don't work well</li>\n",
    "</p>\n",
    "<p>\n",
    "    A common interview task for a data scientist position is to be given anonymized data and attempt to classify it, without knowing the context of the data.\n",
    "    <br>We're going to simulate a imilar scenario by giving you some \"classified\" data, where what the columns represent is not known, but you have to use KNN to classify it\n",
    "</p>\n",
    "</p>"
   ]
  }
 ],
 "metadata": {
  "kernelspec": {
   "display_name": "Python 3 (ipykernel)",
   "language": "python",
   "name": "python3"
  },
  "language_info": {
   "codemirror_mode": {
    "name": "ipython",
    "version": 3
   },
   "file_extension": ".py",
   "mimetype": "text/x-python",
   "name": "python",
   "nbconvert_exporter": "python",
   "pygments_lexer": "ipython3",
   "version": "3.11.7"
  }
 },
 "nbformat": 4,
 "nbformat_minor": 5
}
